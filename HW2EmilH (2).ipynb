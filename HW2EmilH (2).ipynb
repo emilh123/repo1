{
  "nbformat": 4,
  "nbformat_minor": 0,
  "metadata": {
    "colab": {
      "provenance": []
    },
    "kernelspec": {
      "name": "python3",
      "display_name": "Python 3"
    },
    "language_info": {
      "name": "python"
    }
  },
  "cells": [
    {
      "cell_type": "code",
      "execution_count": 16,
      "metadata": {
        "id": "IswNej2EBd0L"
      },
      "outputs": [],
      "source": [
        "import pandas as pd\n",
        "df4 = pd.read_csv(\"https://raw.githubusercontent.com/bartpiel/files-for-classes/refs/heads/main/Workshop-1/S1_Student_Grades_2.csv\")"
      ]
    },
    {
      "cell_type": "code",
      "source": [
        "print(\"First 7 rows\")\n",
        "print(df4.head(7))"
      ],
      "metadata": {
        "colab": {
          "base_uri": "https://localhost:8080/"
        },
        "id": "LCzEgLnRFs56",
        "outputId": "e969a1a6-80da-4b70-a70b-27aaf6d53165"
      },
      "execution_count": 17,
      "outputs": [
        {
          "output_type": "stream",
          "name": "stdout",
          "text": [
            "First 7 rows\n",
            "       Name  S1_Grade  S2_Grade  S3_Grade  S4_Grade\n",
            "0      Anna       4.0       2.0       3.0       3.0\n",
            "1       Ewa       3.5       2.0       4.0       2.0\n",
            "2  Krystyna       2.0       3.0       3.0       3.0\n",
            "3    Dorota       2.0       5.0       4.0       5.0\n",
            "4     Wanda       3.5       3.5       4.0       3.5\n",
            "5     Edyta       2.0       3.0       4.0       4.0\n",
            "6  Elżbieta       4.0       3.0       5.0       3.0\n"
          ]
        }
      ]
    },
    {
      "cell_type": "code",
      "source": [
        "print(\"9 random rows\")\n",
        "print(df4.sample(9))"
      ],
      "metadata": {
        "colab": {
          "base_uri": "https://localhost:8080/"
        },
        "id": "HLTVzpIVBxQ-",
        "outputId": "ad03b07a-b792-4c51-a741-46a76f00fedb"
      },
      "execution_count": 3,
      "outputs": [
        {
          "output_type": "stream",
          "name": "stdout",
          "text": [
            "9 random rows\n",
            "          Name  S1_Grade  S2_Grade  S3_Grade  S4_Grade\n",
            "8   Aleksandra       4.0       3.5       5.0       3.5\n",
            "17      Daniel       3.5       3.0       3.5       3.0\n",
            "16      Alojzy       3.5       3.0       2.0       3.0\n",
            "13   Sebastian       4.0       5.0       3.0       2.0\n",
            "2     Krystyna       2.0       3.0       3.0       3.0\n",
            "5        Edyta       2.0       3.0       4.0       4.0\n",
            "11        Adam       2.0       3.0       4.5       3.0\n",
            "21   Krzysztof       5.0       3.5       2.0       3.5\n",
            "12      Bogdan       5.0       3.0       3.5       3.0\n"
          ]
        }
      ]
    },
    {
      "cell_type": "code",
      "source": [
        "print(\"Column names\")\n",
        "print(list(df4.columns))"
      ],
      "metadata": {
        "colab": {
          "base_uri": "https://localhost:8080/"
        },
        "id": "ZsexZrRWCAHC",
        "outputId": "54badb74-8c32-4a68-84ab-36e3ddae64c2"
      },
      "execution_count": 15,
      "outputs": [
        {
          "output_type": "stream",
          "name": "stdout",
          "text": [
            "Column names\n",
            "['Name', 'S1_Grade', 'S2_Grade', 'S3_Grade', 'S4_Grade', 'Diff_S1-S2']\n"
          ]
        }
      ]
    },
    {
      "cell_type": "code",
      "source": [
        "print(\"Mean of S1_Grade\")\n",
        "print(df4[\"S1_Grade\"].mean())"
      ],
      "metadata": {
        "colab": {
          "base_uri": "https://localhost:8080/"
        },
        "id": "w1QoJXIvCjzp",
        "outputId": "396cad89-2b33-464e-854c-9b62e31acf92"
      },
      "execution_count": 6,
      "outputs": [
        {
          "output_type": "stream",
          "name": "stdout",
          "text": [
            "Mean of S1_Grade\n",
            "3.5681818181818183\n"
          ]
        }
      ]
    },
    {
      "cell_type": "code",
      "source": [
        "print(\"Median of S4_Grade\")\n",
        "print(df4[\"S4_Grade\"].median())"
      ],
      "metadata": {
        "colab": {
          "base_uri": "https://localhost:8080/"
        },
        "id": "NY8e3xaBCs4l",
        "outputId": "8d46b0f2-a615-49bb-d045-48230e7bffe1"
      },
      "execution_count": 7,
      "outputs": [
        {
          "output_type": "stream",
          "name": "stdout",
          "text": [
            "Median of S4_Grade\n",
            "3.0\n"
          ]
        }
      ]
    },
    {
      "cell_type": "code",
      "source": [
        "print(\"Unique values in S3_Grade\")\n",
        "print(df4[\"S3_Grade\"].unique())"
      ],
      "metadata": {
        "colab": {
          "base_uri": "https://localhost:8080/"
        },
        "id": "a40ftzv4Cy2Y",
        "outputId": "8c43f06e-3c39-4ea2-eca6-8d0e7279eff7"
      },
      "execution_count": 21,
      "outputs": [
        {
          "output_type": "stream",
          "name": "stdout",
          "text": [
            "Unique values in S3_Grade\n",
            "[3.  4.  5.  2.  4.5 3.5]\n"
          ]
        }
      ]
    },
    {
      "cell_type": "code",
      "source": [
        "print(\"Descriptive statistics\")\n",
        "print(df4.describe())"
      ],
      "metadata": {
        "colab": {
          "base_uri": "https://localhost:8080/"
        },
        "id": "LXxlTIUTDCqj",
        "outputId": "a0bfb075-0456-4c38-b0f1-7c71cf61eb86"
      },
      "execution_count": 9,
      "outputs": [
        {
          "output_type": "stream",
          "name": "stdout",
          "text": [
            "Descriptive statistics\n",
            "        S1_Grade   S2_Grade   S3_Grade   S4_Grade\n",
            "count  22.000000  22.000000  22.000000  22.000000\n",
            "mean    3.568182   3.340909   3.704545   3.295455\n",
            "std     0.890364   0.730074   0.983907   0.796706\n",
            "min     2.000000   2.000000   2.000000   2.000000\n",
            "25%     3.500000   3.000000   3.000000   3.000000\n",
            "50%     3.750000   3.250000   3.750000   3.000000\n",
            "75%     4.000000   3.500000   4.375000   3.500000\n",
            "max     5.000000   5.000000   5.000000   5.000000\n"
          ]
        }
      ]
    },
    {
      "cell_type": "code",
      "source": [
        "df4 = df4.drop('S4_Grade', axis=1)\n",
        "print(df4)"
      ],
      "metadata": {
        "colab": {
          "base_uri": "https://localhost:8080/"
        },
        "id": "VOdz5yxADJlN",
        "outputId": "56eab531-806d-44ef-ff57-1549a89e49e0"
      },
      "execution_count": 27,
      "outputs": [
        {
          "output_type": "stream",
          "name": "stdout",
          "text": [
            "          Name  S1_Grade  S2_Grade  S3_Grade  Diff_S1-S2\n",
            "0         Anna       4.0       2.0       3.0         2.0\n",
            "1          Ewa       3.5       2.0       4.0         1.5\n",
            "2     Krystyna       2.0       3.0       3.0        -1.0\n",
            "3       Dorota       2.0       5.0       4.0        -3.0\n",
            "4        Wanda       3.5       3.5       4.0         0.0\n",
            "5        Edyta       2.0       3.0       4.0        -1.0\n",
            "6     Elżbieta       4.0       3.0       5.0         1.0\n",
            "7   Małgorzata       4.0       3.5       5.0         0.5\n",
            "8   Aleksandra       4.0       3.5       5.0         0.5\n",
            "9       Sandra       3.5       3.0       2.0         0.5\n",
            "10   Agnieszka       4.0       4.0       3.0         0.0\n",
            "11        Adam       2.0       3.0       4.5        -1.0\n",
            "12      Bogdan       5.0       3.0       3.5         2.0\n",
            "13   Sebastian       4.0       5.0       3.0        -1.0\n",
            "14  Aleksander       3.0       4.0       5.0        -1.0\n",
            "15      Wojtek       4.0       3.5       3.5         0.5\n",
            "16      Alojzy       3.5       3.0       2.0         0.5\n",
            "17      Daniel       3.5       3.0       3.5         0.5\n",
            "18      Maciej       3.5       3.5       3.5         0.0\n",
            "19     Bartosz       4.0       3.5       5.0         0.5\n",
            "20   Stanisław       4.5       3.0       4.0         1.5\n",
            "21   Krzysztof       5.0       3.5       2.0         1.5\n"
          ]
        }
      ]
    },
    {
      "cell_type": "code",
      "source": [
        "df4['Diff_S1-S2'] = df4['S1_Grade'] - df4['S2_Grade']\n",
        "print(df4)"
      ],
      "metadata": {
        "colab": {
          "base_uri": "https://localhost:8080/"
        },
        "id": "gEQGl04-D0HM",
        "outputId": "0ca484f3-5d91-4714-a7bf-6221e32197ab"
      },
      "execution_count": 28,
      "outputs": [
        {
          "output_type": "stream",
          "name": "stdout",
          "text": [
            "          Name  S1_Grade  S2_Grade  S3_Grade  Diff_S1-S2\n",
            "0         Anna       4.0       2.0       3.0         2.0\n",
            "1          Ewa       3.5       2.0       4.0         1.5\n",
            "2     Krystyna       2.0       3.0       3.0        -1.0\n",
            "3       Dorota       2.0       5.0       4.0        -3.0\n",
            "4        Wanda       3.5       3.5       4.0         0.0\n",
            "5        Edyta       2.0       3.0       4.0        -1.0\n",
            "6     Elżbieta       4.0       3.0       5.0         1.0\n",
            "7   Małgorzata       4.0       3.5       5.0         0.5\n",
            "8   Aleksandra       4.0       3.5       5.0         0.5\n",
            "9       Sandra       3.5       3.0       2.0         0.5\n",
            "10   Agnieszka       4.0       4.0       3.0         0.0\n",
            "11        Adam       2.0       3.0       4.5        -1.0\n",
            "12      Bogdan       5.0       3.0       3.5         2.0\n",
            "13   Sebastian       4.0       5.0       3.0        -1.0\n",
            "14  Aleksander       3.0       4.0       5.0        -1.0\n",
            "15      Wojtek       4.0       3.5       3.5         0.5\n",
            "16      Alojzy       3.5       3.0       2.0         0.5\n",
            "17      Daniel       3.5       3.0       3.5         0.5\n",
            "18      Maciej       3.5       3.5       3.5         0.0\n",
            "19     Bartosz       4.0       3.5       5.0         0.5\n",
            "20   Stanisław       4.5       3.0       4.0         1.5\n",
            "21   Krzysztof       5.0       3.5       2.0         1.5\n"
          ]
        }
      ]
    },
    {
      "cell_type": "code",
      "source": [
        "df4['Diff_S1-S2'] = df4['S1_Grade'] - df4['S2_Grade']\n",
        "df5=df4[[\"Name\", 'Diff_S1-S2']]\n",
        "df5"
      ],
      "metadata": {
        "colab": {
          "base_uri": "https://localhost:8080/",
          "height": 739
        },
        "id": "YTXG8YOtIbI9",
        "outputId": "e137e7ae-438c-4235-b537-f4505cad558b"
      },
      "execution_count": 31,
      "outputs": [
        {
          "output_type": "execute_result",
          "data": {
            "text/plain": [
              "          Name  Diff_S1-S2\n",
              "0         Anna         2.0\n",
              "1          Ewa         1.5\n",
              "2     Krystyna        -1.0\n",
              "3       Dorota        -3.0\n",
              "4        Wanda         0.0\n",
              "5        Edyta        -1.0\n",
              "6     Elżbieta         1.0\n",
              "7   Małgorzata         0.5\n",
              "8   Aleksandra         0.5\n",
              "9       Sandra         0.5\n",
              "10   Agnieszka         0.0\n",
              "11        Adam        -1.0\n",
              "12      Bogdan         2.0\n",
              "13   Sebastian        -1.0\n",
              "14  Aleksander        -1.0\n",
              "15      Wojtek         0.5\n",
              "16      Alojzy         0.5\n",
              "17      Daniel         0.5\n",
              "18      Maciej         0.0\n",
              "19     Bartosz         0.5\n",
              "20   Stanisław         1.5\n",
              "21   Krzysztof         1.5"
            ],
            "text/html": [
              "\n",
              "  <div id=\"df-4100e449-10cd-4117-8cc4-5d0317192cfe\" class=\"colab-df-container\">\n",
              "    <div>\n",
              "<style scoped>\n",
              "    .dataframe tbody tr th:only-of-type {\n",
              "        vertical-align: middle;\n",
              "    }\n",
              "\n",
              "    .dataframe tbody tr th {\n",
              "        vertical-align: top;\n",
              "    }\n",
              "\n",
              "    .dataframe thead th {\n",
              "        text-align: right;\n",
              "    }\n",
              "</style>\n",
              "<table border=\"1\" class=\"dataframe\">\n",
              "  <thead>\n",
              "    <tr style=\"text-align: right;\">\n",
              "      <th></th>\n",
              "      <th>Name</th>\n",
              "      <th>Diff_S1-S2</th>\n",
              "    </tr>\n",
              "  </thead>\n",
              "  <tbody>\n",
              "    <tr>\n",
              "      <th>0</th>\n",
              "      <td>Anna</td>\n",
              "      <td>2.0</td>\n",
              "    </tr>\n",
              "    <tr>\n",
              "      <th>1</th>\n",
              "      <td>Ewa</td>\n",
              "      <td>1.5</td>\n",
              "    </tr>\n",
              "    <tr>\n",
              "      <th>2</th>\n",
              "      <td>Krystyna</td>\n",
              "      <td>-1.0</td>\n",
              "    </tr>\n",
              "    <tr>\n",
              "      <th>3</th>\n",
              "      <td>Dorota</td>\n",
              "      <td>-3.0</td>\n",
              "    </tr>\n",
              "    <tr>\n",
              "      <th>4</th>\n",
              "      <td>Wanda</td>\n",
              "      <td>0.0</td>\n",
              "    </tr>\n",
              "    <tr>\n",
              "      <th>5</th>\n",
              "      <td>Edyta</td>\n",
              "      <td>-1.0</td>\n",
              "    </tr>\n",
              "    <tr>\n",
              "      <th>6</th>\n",
              "      <td>Elżbieta</td>\n",
              "      <td>1.0</td>\n",
              "    </tr>\n",
              "    <tr>\n",
              "      <th>7</th>\n",
              "      <td>Małgorzata</td>\n",
              "      <td>0.5</td>\n",
              "    </tr>\n",
              "    <tr>\n",
              "      <th>8</th>\n",
              "      <td>Aleksandra</td>\n",
              "      <td>0.5</td>\n",
              "    </tr>\n",
              "    <tr>\n",
              "      <th>9</th>\n",
              "      <td>Sandra</td>\n",
              "      <td>0.5</td>\n",
              "    </tr>\n",
              "    <tr>\n",
              "      <th>10</th>\n",
              "      <td>Agnieszka</td>\n",
              "      <td>0.0</td>\n",
              "    </tr>\n",
              "    <tr>\n",
              "      <th>11</th>\n",
              "      <td>Adam</td>\n",
              "      <td>-1.0</td>\n",
              "    </tr>\n",
              "    <tr>\n",
              "      <th>12</th>\n",
              "      <td>Bogdan</td>\n",
              "      <td>2.0</td>\n",
              "    </tr>\n",
              "    <tr>\n",
              "      <th>13</th>\n",
              "      <td>Sebastian</td>\n",
              "      <td>-1.0</td>\n",
              "    </tr>\n",
              "    <tr>\n",
              "      <th>14</th>\n",
              "      <td>Aleksander</td>\n",
              "      <td>-1.0</td>\n",
              "    </tr>\n",
              "    <tr>\n",
              "      <th>15</th>\n",
              "      <td>Wojtek</td>\n",
              "      <td>0.5</td>\n",
              "    </tr>\n",
              "    <tr>\n",
              "      <th>16</th>\n",
              "      <td>Alojzy</td>\n",
              "      <td>0.5</td>\n",
              "    </tr>\n",
              "    <tr>\n",
              "      <th>17</th>\n",
              "      <td>Daniel</td>\n",
              "      <td>0.5</td>\n",
              "    </tr>\n",
              "    <tr>\n",
              "      <th>18</th>\n",
              "      <td>Maciej</td>\n",
              "      <td>0.0</td>\n",
              "    </tr>\n",
              "    <tr>\n",
              "      <th>19</th>\n",
              "      <td>Bartosz</td>\n",
              "      <td>0.5</td>\n",
              "    </tr>\n",
              "    <tr>\n",
              "      <th>20</th>\n",
              "      <td>Stanisław</td>\n",
              "      <td>1.5</td>\n",
              "    </tr>\n",
              "    <tr>\n",
              "      <th>21</th>\n",
              "      <td>Krzysztof</td>\n",
              "      <td>1.5</td>\n",
              "    </tr>\n",
              "  </tbody>\n",
              "</table>\n",
              "</div>\n",
              "    <div class=\"colab-df-buttons\">\n",
              "\n",
              "  <div class=\"colab-df-container\">\n",
              "    <button class=\"colab-df-convert\" onclick=\"convertToInteractive('df-4100e449-10cd-4117-8cc4-5d0317192cfe')\"\n",
              "            title=\"Convert this dataframe to an interactive table.\"\n",
              "            style=\"display:none;\">\n",
              "\n",
              "  <svg xmlns=\"http://www.w3.org/2000/svg\" height=\"24px\" viewBox=\"0 -960 960 960\">\n",
              "    <path d=\"M120-120v-720h720v720H120Zm60-500h600v-160H180v160Zm220 220h160v-160H400v160Zm0 220h160v-160H400v160ZM180-400h160v-160H180v160Zm440 0h160v-160H620v160ZM180-180h160v-160H180v160Zm440 0h160v-160H620v160Z\"/>\n",
              "  </svg>\n",
              "    </button>\n",
              "\n",
              "  <style>\n",
              "    .colab-df-container {\n",
              "      display:flex;\n",
              "      gap: 12px;\n",
              "    }\n",
              "\n",
              "    .colab-df-convert {\n",
              "      background-color: #E8F0FE;\n",
              "      border: none;\n",
              "      border-radius: 50%;\n",
              "      cursor: pointer;\n",
              "      display: none;\n",
              "      fill: #1967D2;\n",
              "      height: 32px;\n",
              "      padding: 0 0 0 0;\n",
              "      width: 32px;\n",
              "    }\n",
              "\n",
              "    .colab-df-convert:hover {\n",
              "      background-color: #E2EBFA;\n",
              "      box-shadow: 0px 1px 2px rgba(60, 64, 67, 0.3), 0px 1px 3px 1px rgba(60, 64, 67, 0.15);\n",
              "      fill: #174EA6;\n",
              "    }\n",
              "\n",
              "    .colab-df-buttons div {\n",
              "      margin-bottom: 4px;\n",
              "    }\n",
              "\n",
              "    [theme=dark] .colab-df-convert {\n",
              "      background-color: #3B4455;\n",
              "      fill: #D2E3FC;\n",
              "    }\n",
              "\n",
              "    [theme=dark] .colab-df-convert:hover {\n",
              "      background-color: #434B5C;\n",
              "      box-shadow: 0px 1px 3px 1px rgba(0, 0, 0, 0.15);\n",
              "      filter: drop-shadow(0px 1px 2px rgba(0, 0, 0, 0.3));\n",
              "      fill: #FFFFFF;\n",
              "    }\n",
              "  </style>\n",
              "\n",
              "    <script>\n",
              "      const buttonEl =\n",
              "        document.querySelector('#df-4100e449-10cd-4117-8cc4-5d0317192cfe button.colab-df-convert');\n",
              "      buttonEl.style.display =\n",
              "        google.colab.kernel.accessAllowed ? 'block' : 'none';\n",
              "\n",
              "      async function convertToInteractive(key) {\n",
              "        const element = document.querySelector('#df-4100e449-10cd-4117-8cc4-5d0317192cfe');\n",
              "        const dataTable =\n",
              "          await google.colab.kernel.invokeFunction('convertToInteractive',\n",
              "                                                    [key], {});\n",
              "        if (!dataTable) return;\n",
              "\n",
              "        const docLinkHtml = 'Like what you see? Visit the ' +\n",
              "          '<a target=\"_blank\" href=https://colab.research.google.com/notebooks/data_table.ipynb>data table notebook</a>'\n",
              "          + ' to learn more about interactive tables.';\n",
              "        element.innerHTML = '';\n",
              "        dataTable['output_type'] = 'display_data';\n",
              "        await google.colab.output.renderOutput(dataTable, element);\n",
              "        const docLink = document.createElement('div');\n",
              "        docLink.innerHTML = docLinkHtml;\n",
              "        element.appendChild(docLink);\n",
              "      }\n",
              "    </script>\n",
              "  </div>\n",
              "\n",
              "\n",
              "<div id=\"df-25d98730-4f54-4f4c-9888-30d9d83fec4e\">\n",
              "  <button class=\"colab-df-quickchart\" onclick=\"quickchart('df-25d98730-4f54-4f4c-9888-30d9d83fec4e')\"\n",
              "            title=\"Suggest charts\"\n",
              "            style=\"display:none;\">\n",
              "\n",
              "<svg xmlns=\"http://www.w3.org/2000/svg\" height=\"24px\"viewBox=\"0 0 24 24\"\n",
              "     width=\"24px\">\n",
              "    <g>\n",
              "        <path d=\"M19 3H5c-1.1 0-2 .9-2 2v14c0 1.1.9 2 2 2h14c1.1 0 2-.9 2-2V5c0-1.1-.9-2-2-2zM9 17H7v-7h2v7zm4 0h-2V7h2v10zm4 0h-2v-4h2v4z\"/>\n",
              "    </g>\n",
              "</svg>\n",
              "  </button>\n",
              "\n",
              "<style>\n",
              "  .colab-df-quickchart {\n",
              "      --bg-color: #E8F0FE;\n",
              "      --fill-color: #1967D2;\n",
              "      --hover-bg-color: #E2EBFA;\n",
              "      --hover-fill-color: #174EA6;\n",
              "      --disabled-fill-color: #AAA;\n",
              "      --disabled-bg-color: #DDD;\n",
              "  }\n",
              "\n",
              "  [theme=dark] .colab-df-quickchart {\n",
              "      --bg-color: #3B4455;\n",
              "      --fill-color: #D2E3FC;\n",
              "      --hover-bg-color: #434B5C;\n",
              "      --hover-fill-color: #FFFFFF;\n",
              "      --disabled-bg-color: #3B4455;\n",
              "      --disabled-fill-color: #666;\n",
              "  }\n",
              "\n",
              "  .colab-df-quickchart {\n",
              "    background-color: var(--bg-color);\n",
              "    border: none;\n",
              "    border-radius: 50%;\n",
              "    cursor: pointer;\n",
              "    display: none;\n",
              "    fill: var(--fill-color);\n",
              "    height: 32px;\n",
              "    padding: 0;\n",
              "    width: 32px;\n",
              "  }\n",
              "\n",
              "  .colab-df-quickchart:hover {\n",
              "    background-color: var(--hover-bg-color);\n",
              "    box-shadow: 0 1px 2px rgba(60, 64, 67, 0.3), 0 1px 3px 1px rgba(60, 64, 67, 0.15);\n",
              "    fill: var(--button-hover-fill-color);\n",
              "  }\n",
              "\n",
              "  .colab-df-quickchart-complete:disabled,\n",
              "  .colab-df-quickchart-complete:disabled:hover {\n",
              "    background-color: var(--disabled-bg-color);\n",
              "    fill: var(--disabled-fill-color);\n",
              "    box-shadow: none;\n",
              "  }\n",
              "\n",
              "  .colab-df-spinner {\n",
              "    border: 2px solid var(--fill-color);\n",
              "    border-color: transparent;\n",
              "    border-bottom-color: var(--fill-color);\n",
              "    animation:\n",
              "      spin 1s steps(1) infinite;\n",
              "  }\n",
              "\n",
              "  @keyframes spin {\n",
              "    0% {\n",
              "      border-color: transparent;\n",
              "      border-bottom-color: var(--fill-color);\n",
              "      border-left-color: var(--fill-color);\n",
              "    }\n",
              "    20% {\n",
              "      border-color: transparent;\n",
              "      border-left-color: var(--fill-color);\n",
              "      border-top-color: var(--fill-color);\n",
              "    }\n",
              "    30% {\n",
              "      border-color: transparent;\n",
              "      border-left-color: var(--fill-color);\n",
              "      border-top-color: var(--fill-color);\n",
              "      border-right-color: var(--fill-color);\n",
              "    }\n",
              "    40% {\n",
              "      border-color: transparent;\n",
              "      border-right-color: var(--fill-color);\n",
              "      border-top-color: var(--fill-color);\n",
              "    }\n",
              "    60% {\n",
              "      border-color: transparent;\n",
              "      border-right-color: var(--fill-color);\n",
              "    }\n",
              "    80% {\n",
              "      border-color: transparent;\n",
              "      border-right-color: var(--fill-color);\n",
              "      border-bottom-color: var(--fill-color);\n",
              "    }\n",
              "    90% {\n",
              "      border-color: transparent;\n",
              "      border-bottom-color: var(--fill-color);\n",
              "    }\n",
              "  }\n",
              "</style>\n",
              "\n",
              "  <script>\n",
              "    async function quickchart(key) {\n",
              "      const quickchartButtonEl =\n",
              "        document.querySelector('#' + key + ' button');\n",
              "      quickchartButtonEl.disabled = true;  // To prevent multiple clicks.\n",
              "      quickchartButtonEl.classList.add('colab-df-spinner');\n",
              "      try {\n",
              "        const charts = await google.colab.kernel.invokeFunction(\n",
              "            'suggestCharts', [key], {});\n",
              "      } catch (error) {\n",
              "        console.error('Error during call to suggestCharts:', error);\n",
              "      }\n",
              "      quickchartButtonEl.classList.remove('colab-df-spinner');\n",
              "      quickchartButtonEl.classList.add('colab-df-quickchart-complete');\n",
              "    }\n",
              "    (() => {\n",
              "      let quickchartButtonEl =\n",
              "        document.querySelector('#df-25d98730-4f54-4f4c-9888-30d9d83fec4e button');\n",
              "      quickchartButtonEl.style.display =\n",
              "        google.colab.kernel.accessAllowed ? 'block' : 'none';\n",
              "    })();\n",
              "  </script>\n",
              "</div>\n",
              "\n",
              "  <div id=\"id_01d09871-14d6-4b2a-96b9-00813dee3451\">\n",
              "    <style>\n",
              "      .colab-df-generate {\n",
              "        background-color: #E8F0FE;\n",
              "        border: none;\n",
              "        border-radius: 50%;\n",
              "        cursor: pointer;\n",
              "        display: none;\n",
              "        fill: #1967D2;\n",
              "        height: 32px;\n",
              "        padding: 0 0 0 0;\n",
              "        width: 32px;\n",
              "      }\n",
              "\n",
              "      .colab-df-generate:hover {\n",
              "        background-color: #E2EBFA;\n",
              "        box-shadow: 0px 1px 2px rgba(60, 64, 67, 0.3), 0px 1px 3px 1px rgba(60, 64, 67, 0.15);\n",
              "        fill: #174EA6;\n",
              "      }\n",
              "\n",
              "      [theme=dark] .colab-df-generate {\n",
              "        background-color: #3B4455;\n",
              "        fill: #D2E3FC;\n",
              "      }\n",
              "\n",
              "      [theme=dark] .colab-df-generate:hover {\n",
              "        background-color: #434B5C;\n",
              "        box-shadow: 0px 1px 3px 1px rgba(0, 0, 0, 0.15);\n",
              "        filter: drop-shadow(0px 1px 2px rgba(0, 0, 0, 0.3));\n",
              "        fill: #FFFFFF;\n",
              "      }\n",
              "    </style>\n",
              "    <button class=\"colab-df-generate\" onclick=\"generateWithVariable('df5')\"\n",
              "            title=\"Generate code using this dataframe.\"\n",
              "            style=\"display:none;\">\n",
              "\n",
              "  <svg xmlns=\"http://www.w3.org/2000/svg\" height=\"24px\"viewBox=\"0 0 24 24\"\n",
              "       width=\"24px\">\n",
              "    <path d=\"M7,19H8.4L18.45,9,17,7.55,7,17.6ZM5,21V16.75L18.45,3.32a2,2,0,0,1,2.83,0l1.4,1.43a1.91,1.91,0,0,1,.58,1.4,1.91,1.91,0,0,1-.58,1.4L9.25,21ZM18.45,9,17,7.55Zm-12,3A5.31,5.31,0,0,0,4.9,8.1,5.31,5.31,0,0,0,1,6.5,5.31,5.31,0,0,0,4.9,4.9,5.31,5.31,0,0,0,6.5,1,5.31,5.31,0,0,0,8.1,4.9,5.31,5.31,0,0,0,12,6.5,5.46,5.46,0,0,0,6.5,12Z\"/>\n",
              "  </svg>\n",
              "    </button>\n",
              "    <script>\n",
              "      (() => {\n",
              "      const buttonEl =\n",
              "        document.querySelector('#id_01d09871-14d6-4b2a-96b9-00813dee3451 button.colab-df-generate');\n",
              "      buttonEl.style.display =\n",
              "        google.colab.kernel.accessAllowed ? 'block' : 'none';\n",
              "\n",
              "      buttonEl.onclick = () => {\n",
              "        google.colab.notebook.generateWithVariable('df5');\n",
              "      }\n",
              "      })();\n",
              "    </script>\n",
              "  </div>\n",
              "\n",
              "    </div>\n",
              "  </div>\n"
            ],
            "application/vnd.google.colaboratory.intrinsic+json": {
              "type": "dataframe",
              "variable_name": "df5",
              "summary": "{\n  \"name\": \"df5\",\n  \"rows\": 22,\n  \"fields\": [\n    {\n      \"column\": \"Name\",\n      \"properties\": {\n        \"dtype\": \"string\",\n        \"num_unique_values\": 22,\n        \"samples\": [\n          \"Anna\",\n          \"Sebastian\",\n          \"Aleksandra\"\n        ],\n        \"semantic_type\": \"\",\n        \"description\": \"\"\n      }\n    },\n    {\n      \"column\": \"Diff_S1-S2\",\n      \"properties\": {\n        \"dtype\": \"number\",\n        \"std\": 1.202450600185906,\n        \"min\": -3.0,\n        \"max\": 2.0,\n        \"num_unique_values\": 7,\n        \"samples\": [\n          2.0,\n          1.5,\n          1.0\n        ],\n        \"semantic_type\": \"\",\n        \"description\": \"\"\n      }\n    }\n  ]\n}"
            }
          },
          "metadata": {},
          "execution_count": 31
        }
      ]
    },
    {
      "cell_type": "code",
      "source": [
        "df5.to_csv(\"df5.csv\")"
      ],
      "metadata": {
        "id": "DB8_73w8Iv3y"
      },
      "execution_count": 32,
      "outputs": []
    }
  ]
}